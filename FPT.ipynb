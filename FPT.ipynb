{
  "nbformat": 4,
  "nbformat_minor": 0,
  "metadata": {
    "colab": {
      "provenance": [],
      "include_colab_link": true
    },
    "kernelspec": {
      "name": "python3",
      "display_name": "Python 3"
    },
    "language_info": {
      "name": "python"
    }
  },
  "cells": [
    {
      "cell_type": "markdown",
      "metadata": {
        "id": "view-in-github",
        "colab_type": "text"
      },
      "source": [
        "<a href=\"https://colab.research.google.com/github/Cuong2812/Stock-Price-Predictions/blob/main/FPT.ipynb\" target=\"_parent\"><img src=\"https://colab.research.google.com/assets/colab-badge.svg\" alt=\"Open In Colab\"/></a>"
      ]
    },
    {
      "cell_type": "markdown",
      "metadata": {
        "id": "IEz_72623TLO"
      },
      "source": [
        "# Stock Price Predictions of FPT stock\n",
        "\n"
      ]
    },
    {
      "cell_type": "markdown",
      "metadata": {
        "id": "oK9rugKk4FAN"
      },
      "source": [
        "## Import Libraries"
      ]
    },
    {
      "cell_type": "code",
      "metadata": {
        "id": "1PUnwB3P4Gbg"
      },
      "source": [
        "import pandas as pd\n",
        "import numpy as np\n",
        "import matplotlib.pyplot as plt\n",
        "import seaborn as sns\n",
        "import math\n",
        "\n",
        "from tensorflow.keras.models import Sequential\n",
        "from tensorflow.keras.layers import Dense, Dropout, LSTM, Bidirectional, Activation\n",
        "from tensorflow.keras.callbacks import ModelCheckpoint, EarlyStopping\n",
        "from tensorflow.keras.metrics import MeanAbsolutePercentageError, MeanSquaredError\n",
        "from tensorflow.keras.optimizers import Adam\n",
        "\n",
        "from sklearn.preprocessing import MinMaxScaler, OrdinalEncoder"
      ],
      "execution_count": 20,
      "outputs": []
    },
    {
      "cell_type": "markdown",
      "metadata": {
        "id": "eBom6uRfymgR"
      },
      "source": [
        "### Auxilary functions"
      ]
    },
    {
      "cell_type": "code",
      "metadata": {
        "id": "fsR2HLxkwOw2"
      },
      "source": [
        "def write_values(rects, ax):\n",
        "  heights = [r.get_height() for r in rects]\n",
        "  rel_heights = [h/max(heights) for h in heights]\n",
        "  idx = heights.index(max(heights))\n",
        "  for i,(r,h, rh) in enumerate(zip(rects, heights, rel_heights)):\n",
        "      ax.text(r.get_x() + r.get_width()/2.0, h + max(heights) * .01, f'{h:.2}', ha='center')\n",
        "\n",
        "def factor_int(n):\n",
        "  val = math.ceil(math.sqrt(n))\n",
        "  val2 = int(n/val)\n",
        "  while val2 * val != float(n):\n",
        "    val -= 1\n",
        "    val2 = int(n/val)\n",
        "  return val, val2"
      ],
      "execution_count": 21,
      "outputs": []
    },
    {
      "cell_type": "markdown",
      "metadata": {
        "id": "CLCNSKez3WMF"
      },
      "source": [
        "## Import Dataset"
      ]
    },
    {
      "cell_type": "code",
      "metadata": {
        "id": "QDFbe2fO3vcx"
      },
      "source": [
        "FPT = pd.read_csv('/content/FPT.csv', usecols = ['Name','Date','Open','Close','High','Low','Volume'])"
      ],
      "execution_count": 22,
      "outputs": []
    },
    {
      "cell_type": "code",
      "source": [
        "FPT['Date'] = pd.to_datetime(FPT['Date'])"
      ],
      "metadata": {
        "id": "sWdviNxIp6fO"
      },
      "execution_count": 23,
      "outputs": []
    },
    {
      "cell_type": "markdown",
      "metadata": {
        "id": "VMu9yiDzeHiX"
      },
      "source": [
        "## Create Dataset"
      ]
    },
    {
      "cell_type": "code",
      "metadata": {
        "id": "zUWkkyxtmCUD"
      },
      "source": [
        "#Stock name encoder\n",
        "name_encoder = OrdinalEncoder()\n",
        "#Value scaler\n",
        "scaler = MinMaxScaler(feature_range=(0,1))\n",
        "\n",
        "feature_cols = [\n",
        "                # 'Movement',\n",
        "                'Close', \n",
        "                # 'Open', 'Daily_High', 'Daily_Low', \"Volume\", \n",
        "                # 'avg',\n",
        "                # \"ma7\", \"ma21\", \"ema26\", \"ema12\", \"MACD\", \"upper_band\", \"lower_band\", \"ema\", \"momentum\",\n",
        "                \"Year\", \"Month\", \"Day\", \"Name\"]\n",
        "\n",
        "def create_timeseries(data, lag):\n",
        "  x = []\n",
        "  y = []\n",
        "\n",
        "  for i in range(lag, len(data)):\n",
        "      x.append(data[i - lag:i, :])\n",
        "      y.append(data[i, 0])\n",
        "  \n",
        "  x, y = np.array(x), np.array(y)\n",
        "  x = np.reshape(x, (x.shape[0], x.shape[1], -1))\n",
        "\n",
        "  assert len(x) == len(y)\n",
        "  return x, y\n",
        "\n",
        "def create_lag_features(data, lag):\n",
        "  x = []\n",
        "  y = []\n",
        "\n",
        "  for i in range(lag, len(data)):\n",
        "      x.append(data[i - lag:i, :])\n",
        "      y.append(data[i, 0])\n",
        "  \n",
        "  x, y = np.array(x), np.array(y)\n",
        "  x = np.reshape(x, (x.shape[0], -1))\n",
        "\n",
        "  assert len(x) == len(y)\n",
        "  return x, y\n",
        "\n",
        "def create_dataset(df, lag=60, dataset_format='timeseries', stock=None, target=\"regression\"):\n",
        "  if stock:\n",
        "    #Keep only one specific stock\n",
        "    X = df[df['Name'] == stock].copy()\n",
        "  else:\n",
        "    #Keep all stocks\n",
        "    X = df.copy()\n",
        "  \n",
        "  #Convert name from string to int\n",
        "  X['Name'] = name_encoder.fit_transform(X['Name'].to_numpy().reshape(-1,1))\n",
        "\n",
        "  #Convert volume from string to float\n",
        "  X['Volume'] = X['Volume'].astype('float')\n",
        "\n",
        "  #Create additional features and technical indicators\n",
        "  #Average of given prices\n",
        "  X['avg'] = X[['Close', 'Open', 'High', 'Low']].mean().mean()\n",
        "  # Create 7 and 21 days Moving Average\n",
        "  X['ma7'] = X['Close'].rolling(window = 7).mean()\n",
        "  X['ma21'] = X['Close'].rolling(window = 21).mean()\n",
        "  #Create MACD\n",
        "  X['ema26'] = X['Close'].ewm(span=26).mean()\n",
        "  X['ema12'] = X['Close'].ewm(span=12).mean()\n",
        "  X['MACD'] = (X['ema12']-X['ema26'])\n",
        "  #Create Bollinger Bands\n",
        "  X['20sd'] = X['Close'].rolling(window = 20).std()\n",
        "  X['upper_band'] = (X['Close'].rolling(window = 20).mean()) + (X['20sd']*2)\n",
        "  X['lower_band'] = (X['Close'].rolling(window = 20).mean()) - (X['20sd']*2)\n",
        "  #Create Exponential moving average\n",
        "  X['ema'] = X['Close'].ewm(com=0.5).mean()\n",
        "  #Create Momentum\n",
        "  X['momentum'] = X['Close'].rolling(window=10).apply(lambda x: x.iat[-1] - x.iat[0])\n",
        "\n",
        "\n",
        "  #Break day into year, month, day and time(hours, minutes, seconds)\n",
        "  X['Date'] = pd.to_datetime(X['Date'])\n",
        "  X['Year'] = X['Date'].dt.year\n",
        "  X['Month'] = X['Date'].dt.month\n",
        "  X['Day'] = X['Date'].dt.day\n",
        "  X['Time'] = X['Date'].dt.time\n",
        "\n",
        "  #Throw away original date column\n",
        "  X = X.drop(columns=['Date'])\n",
        "  year = X['Year']\n",
        "\n",
        "  #Move target column to first column\n",
        "  if target == 'regression':\n",
        "    close = X.pop(\"Close\")\n",
        "    X.insert(0, \"Close\", close)\n",
        "  elif target == 'classification':\n",
        "    X['Movement'] = X['Close'].rolling(window=2).apply(lambda x: 1 if x.iat[-1] > x.iat[0] else 0)\n",
        "    X['Movement'].iat[0] = 0\n",
        "    movement = X.pop(\"Movement\")\n",
        "    X.insert(0, \"Movement\", movement)\n",
        "  else:\n",
        "    raise ValueError()\n",
        "\n",
        "  #Keep only necessary features\n",
        "  X = pd.DataFrame(X, columns=feature_cols)\n",
        "\n",
        "  # Normalize data\n",
        "  if scaler != None:\n",
        "    X = scaler.fit_transform(X)\n",
        "  else:\n",
        "    X = X.to_numpy()\n",
        "\n",
        "  #Split into train, test\n",
        "  train_points = year\n",
        "  train_data = X[0:77925, :]\n",
        "  \n",
        "  test_points = year\n",
        "  test_data = X[-19481:, :]\n",
        "\n",
        "  if dataset_format == 'timeseries':\n",
        "    X_train, y_train = create_timeseries(train_data, lag)\n",
        "    X_test, y_test = create_timeseries(test_data, lag)\n",
        "  elif dataset_format == 'lag_features':\n",
        "    X_train, y_train = create_lag_features(train_data, lag)\n",
        "    X_test, y_test = create_lag_features(test_data, lag)\n",
        "\n",
        "  return (X_train, y_train), (X_test, y_test)\n",
        "\n",
        "\n",
        "def next_day(row):\n",
        "  year, month, day = round(row['Year'].item()), round(row['Month'].item()), round(row['Day'].item())\n",
        "  new_date = pd.Timestamp(year=year, month=month, day=day)\n",
        "  return new_date\n",
        "\n",
        "def dataset_to_df(X, Y, lag=60):\n",
        "  if X.ndim == 3:\n",
        "    last_days = X[:, -1, :]\n",
        "  elif X.ndim == 2:\n",
        "    n_feat = int(X.shape[1]/lag)\n",
        "    last_days = X[:, -n_feat:]\n",
        "  new_df = pd.DataFrame(last_days, columns=feature_cols)\n",
        "  #Replace closing price with y and scale back to original values\n",
        "  new_df['Close'] = Y\n",
        "  if scaler != None:\n",
        "    new_df = pd.DataFrame(scaler.inverse_transform(new_df), columns=feature_cols)\n",
        "  #Go to next day (i.e. day of the prediction)\n",
        "  new_df['Date'] = new_df.apply(next_day, axis=1)\n",
        "  #Convert name to string\n",
        "  new_df[\"Name\"] = name_encoder.inverse_transform(new_df[\"Name\"].to_numpy().reshape(-1, 1))\n",
        "\n",
        "  return pd.DataFrame(new_df, columns=['Name', \"Date\", \"Close\"])"
      ],
      "execution_count": 24,
      "outputs": []
    },
    {
      "cell_type": "code",
      "metadata": {
        "id": "I2kaxF0ffGHv",
        "colab": {
          "base_uri": "https://localhost:8080/"
        },
        "outputId": "b39b4e3a-8ead-487b-891a-2074ed67c0f7"
      },
      "source": [
        "(X_train, y_train), (X_test, y_test) = create_dataset(FPT, stock=\"FPT\")\n",
        "\n",
        "print(f\"X_train: {str(X_train.shape):14}, y_train: {y_train.shape}\")\n",
        "print(f\"X_test:  {str(X_test.shape):14}, y_test:   {y_test.shape}\")"
      ],
      "execution_count": 25,
      "outputs": [
        {
          "output_type": "stream",
          "name": "stdout",
          "text": [
            "X_train: (77865, 60, 5), y_train: (77865,)\n",
            "X_test:  (19421, 60, 5), y_test:   (19421,)\n"
          ]
        }
      ]
    },
    {
      "cell_type": "code",
      "metadata": {
        "id": "goIH_9KT49Gs",
        "colab": {
          "base_uri": "https://localhost:8080/",
          "height": 419
        },
        "outputId": "8bf5cabc-99e0-45b2-b5d1-08e0fcea7f99"
      },
      "source": [
        "train_df = dataset_to_df(X_train, y_train)\n",
        "test_df = dataset_to_df(X_test, y_test)\n",
        "\n",
        "# Line plot\n",
        "fig, ax = plt.subplots(figsize=(15, 6))\n",
        "\n",
        "plt.plot(train_df['Date'], train_df['Close'], label=\"Train\")\n",
        "plt.plot(test_df['Date'], test_df['Close'], label=\"Test\")\n",
        "\n",
        "# Formatting\n",
        "ax.set_title('Closing Price', fontsize = 20, loc='center', fontdict=dict(weight='bold'))\n",
        "ax.set_xlabel('Year', fontsize = 16, fontdict=dict(weight='bold'))\n",
        "ax.set_ylabel('Price', fontsize = 16, fontdict=dict(weight='bold'))\n",
        "ax.legend()\n",
        "plt.tick_params(axis='y', which='major', labelsize=16)\n",
        "plt.tick_params(axis='x', which='major', labelsize=16)"
      ],
      "execution_count": 26,
      "outputs": [
        {
          "output_type": "display_data",
          "data": {
            "text/plain": [
              "<Figure size 1080x432 with 1 Axes>"
            ],
            "image/png": "[encoded data removed]"
          },
          "metadata": {
            "needs_background": "light"
          }
        }
      ]
    },
    {
      "cell_type": "markdown",
      "metadata": {
        "id": "SUeP_4zbcyKU"
      },
      "source": [
        "## Predicting prices with regression"
      ]
    },
    {
      "cell_type": "code",
      "metadata": {
        "id": "1P2YjxP09QrO"
      },
      "source": [
        "results = {}\n",
        "target = \"regression\"\n",
        "\n",
        "#The following variables can be changed to alter the experiment\n",
        "\n",
        "#Value scaler can be set to None for no scaling\n",
        "scaler = MinMaxScaler(feature_range=(0,1))\n",
        "# scaler = None\n",
        "\n",
        "feature_cols = [\n",
        "                'Close', \n",
        "                'Open', 'High', 'Low', \"Volume\", \n",
        "                'avg',\n",
        "                # \"ma7\", \"ma21\", \"ema26\", \"ema12\", \"MACD\", \"upper_band\", \"lower_band\", \"ema\", \"momentum\",\n",
        "                \"Year\", \"Month\", \"Day\", \"Name\"]\n",
        "lag = 30\n",
        "stock_name = \"FPT\""
      ],
      "execution_count": 27,
      "outputs": []
    },
    {
      "cell_type": "markdown",
      "metadata": {
        "id": "1LYdpaZ_93J-"
      },
      "source": [
        "### Neural models"
      ]
    },
    {
      "cell_type": "markdown",
      "metadata": {
        "id": "qQHy9gvmcQGz"
      },
      "source": [
        "#### Define models"
      ]
    },
    {
      "cell_type": "code",
      "metadata": {
        "id": "hJ1d6Ndwc0q9"
      },
      "source": [
        "def LSTM_model(inp_shape):\n",
        "  model = Sequential()\n",
        "  model.add(LSTM(32, input_shape=(inp_shape), return_sequences = True))\n",
        "  model.add(LSTM(16))\n",
        "  model.add(Dense(1))\n",
        "  model.add(Activation('relu'))\n",
        "  return model\n"
      ],
      "execution_count": 28,
      "outputs": []
    },
    {
      "cell_type": "markdown",
      "metadata": {
        "id": "M6UuBTRY960C"
      },
      "source": [
        "#### Train models"
      ]
    },
    {
      "cell_type": "code",
      "metadata": {
        "id": "ruxAdaBO6Fup",
        "colab": {
          "base_uri": "https://localhost:8080/"
        },
        "outputId": "5ca7780f-90ed-451e-9a90-b620ac4bd29b"
      },
      "source": [
        "model_create_funcs = {\"LSTM\" : (LSTM_model, \"timeseries\")}\n",
        "\n",
        "for name, (create_func, dataset_format) in model_create_funcs.items():\n",
        "  #Create dataset\n",
        "  (X_train, y_train), (X_test, y_test) = create_dataset(FPT, lag=lag, dataset_format=dataset_format, stock=stock_name, target=target)\n",
        "  #Create model\n",
        "  if X_train.ndim == 3:\n",
        "    model = create_func((X_train.shape[1], X_train.shape[2]))\n",
        "  elif X_train.ndim == 2:\n",
        "    model = create_func((X_train.shape[1],))\n",
        "  # model.summary()\n",
        "  model.compile(optimizer='adam', loss='mean_squared_error', metrics=['mean_absolute_percentage_error'])\n",
        "\n",
        "  #Define callbacks\n",
        "  early_stopper = EarlyStopping(monitor=\"val_loss\", patience=5, restore_best_weights=True)\n",
        "  cbs = [early_stopper]\n",
        "\n",
        "  #Train model (batchsize = 150 for for roughly 150 observations per day)\n",
        "  model.fit(X_train, y_train, validation_split=0.1, epochs=40, batch_size=140, verbose=1, callbacks=cbs)\n",
        "\n",
        "  #Make predictions on test set\n",
        "  predicted_prices = model.predict(X_test)\n",
        "  #Convert predictions\n",
        "  pred_df = dataset_to_df(X_test, predicted_prices, lag=lag)\n",
        "  #Get metrics on test set\n",
        "  mse = MeanSquaredError()(predicted_prices, y_test)\n",
        "  mape = MeanAbsolutePercentageError()(predicted_prices, y_test) \n",
        "  #Make predictions on train set\n",
        "  predicted_prices = model.predict(X_train)\n",
        "  #Get metrics on train set\n",
        "  train_mse = MeanSquaredError()(predicted_prices, y_train)\n",
        "  train_mape = MeanAbsolutePercentageError()(predicted_prices, y_train)\n",
        "\n",
        "  results[name] = {\n",
        "      \"pred\" : pred_df,\n",
        "      \"mse\" : mse,\n",
        "      \"mape\" : mape,\n",
        "      \"train_mse\" : mse,\n",
        "      \"train_mape\" : mape\n",
        "  }"
      ],
      "execution_count": 29,
      "outputs": [
        {
          "output_type": "stream",
          "name": "stdout",
          "text": [
            "Epoch 1/40\n",
            "501/501 [==============================] - 30s 50ms/step - loss: 0.0022 - mean_absolute_percentage_error: 779.8835 - val_loss: 2.1747e-05 - val_mean_absolute_percentage_error: 0.5447\n",
            "Epoch 2/40\n",
            "501/501 [==============================] - 22s 44ms/step - loss: 2.7237e-05 - mean_absolute_percentage_error: 681.5369 - val_loss: 2.1147e-05 - val_mean_absolute_percentage_error: 0.5516\n",
            "Epoch 3/40\n",
            "501/501 [==============================] - 23s 45ms/step - loss: 2.2050e-05 - mean_absolute_percentage_error: 620.6387 - val_loss: 1.8871e-05 - val_mean_absolute_percentage_error: 0.5239\n",
            "Epoch 4/40\n",
            "501/501 [==============================] - 22s 45ms/step - loss: 2.0806e-05 - mean_absolute_percentage_error: 482.4765 - val_loss: 1.6121e-05 - val_mean_absolute_percentage_error: 0.4626\n",
            "Epoch 5/40\n",
            "501/501 [==============================] - 22s 44ms/step - loss: 2.0597e-05 - mean_absolute_percentage_error: 435.8618 - val_loss: 1.5079e-05 - val_mean_absolute_percentage_error: 0.4397\n",
            "Epoch 6/40\n",
            "501/501 [==============================] - 21s 42ms/step - loss: 2.0143e-05 - mean_absolute_percentage_error: 336.5234 - val_loss: 1.4541e-05 - val_mean_absolute_percentage_error: 0.4411\n",
            "Epoch 7/40\n",
            "501/501 [==============================] - 23s 45ms/step - loss: 1.8763e-05 - mean_absolute_percentage_error: 341.0356 - val_loss: 2.0498e-05 - val_mean_absolute_percentage_error: 0.6041\n",
            "Epoch 8/40\n",
            "501/501 [==============================] - 23s 46ms/step - loss: 1.8121e-05 - mean_absolute_percentage_error: 357.0589 - val_loss: 1.9978e-05 - val_mean_absolute_percentage_error: 0.5961\n",
            "Epoch 9/40\n",
            "501/501 [==============================] - 24s 48ms/step - loss: 1.9141e-05 - mean_absolute_percentage_error: 268.5235 - val_loss: 1.0094e-05 - val_mean_absolute_percentage_error: 0.3361\n",
            "Epoch 10/40\n",
            "501/501 [==============================] - 22s 43ms/step - loss: 1.7342e-05 - mean_absolute_percentage_error: 295.0649 - val_loss: 9.3407e-06 - val_mean_absolute_percentage_error: 0.3214\n",
            "Epoch 11/40\n",
            "501/501 [==============================] - 23s 46ms/step - loss: 1.5900e-05 - mean_absolute_percentage_error: 320.9936 - val_loss: 1.8745e-05 - val_mean_absolute_percentage_error: 0.6019\n",
            "Epoch 12/40\n",
            "501/501 [==============================] - 22s 45ms/step - loss: 1.5307e-05 - mean_absolute_percentage_error: 319.9799 - val_loss: 8.2723e-06 - val_mean_absolute_percentage_error: 0.3059\n",
            "Epoch 13/40\n",
            "501/501 [==============================] - 23s 46ms/step - loss: 1.5704e-05 - mean_absolute_percentage_error: 312.6118 - val_loss: 1.2170e-05 - val_mean_absolute_percentage_error: 0.4597\n",
            "Epoch 14/40\n",
            "501/501 [==============================] - 21s 43ms/step - loss: 1.4235e-05 - mean_absolute_percentage_error: 315.3496 - val_loss: 8.8429e-06 - val_mean_absolute_percentage_error: 0.3582\n",
            "Epoch 15/40\n",
            "501/501 [==============================] - 23s 45ms/step - loss: 1.3169e-05 - mean_absolute_percentage_error: 241.3141 - val_loss: 8.1137e-06 - val_mean_absolute_percentage_error: 0.3338\n",
            "Epoch 16/40\n",
            "501/501 [==============================] - 23s 46ms/step - loss: 1.3381e-05 - mean_absolute_percentage_error: 334.2530 - val_loss: 8.4059e-06 - val_mean_absolute_percentage_error: 0.3500\n",
            "Epoch 17/40\n",
            "501/501 [==============================] - 23s 47ms/step - loss: 1.1863e-05 - mean_absolute_percentage_error: 287.1473 - val_loss: 6.3063e-06 - val_mean_absolute_percentage_error: 0.2803\n",
            "Epoch 18/40\n",
            "501/501 [==============================] - 22s 43ms/step - loss: 1.1190e-05 - mean_absolute_percentage_error: 262.2474 - val_loss: 1.1207e-05 - val_mean_absolute_percentage_error: 0.4595\n",
            "Epoch 19/40\n",
            "501/501 [==============================] - 22s 43ms/step - loss: 1.0590e-05 - mean_absolute_percentage_error: 261.2359 - val_loss: 3.3976e-05 - val_mean_absolute_percentage_error: 0.9289\n",
            "Epoch 20/40\n",
            "501/501 [==============================] - 22s 45ms/step - loss: 1.1110e-05 - mean_absolute_percentage_error: 251.1201 - val_loss: 5.5399e-06 - val_mean_absolute_percentage_error: 0.2701\n",
            "Epoch 21/40\n",
            "501/501 [==============================] - 23s 45ms/step - loss: 9.3315e-06 - mean_absolute_percentage_error: 232.3848 - val_loss: 4.4983e-06 - val_mean_absolute_percentage_error: 0.2266\n",
            "Epoch 22/40\n",
            "501/501 [==============================] - 22s 44ms/step - loss: 9.5930e-06 - mean_absolute_percentage_error: 240.1526 - val_loss: 5.9844e-06 - val_mean_absolute_percentage_error: 0.3016\n",
            "Epoch 23/40\n",
            "501/501 [==============================] - 22s 44ms/step - loss: 8.7690e-06 - mean_absolute_percentage_error: 240.8248 - val_loss: 4.1030e-06 - val_mean_absolute_percentage_error: 0.2204\n",
            "Epoch 24/40\n",
            "501/501 [==============================] - 23s 46ms/step - loss: 8.4654e-06 - mean_absolute_percentage_error: 209.9393 - val_loss: 3.9840e-06 - val_mean_absolute_percentage_error: 0.2173\n",
            "Epoch 25/40\n",
            "501/501 [==============================] - 24s 48ms/step - loss: 8.3841e-06 - mean_absolute_percentage_error: 285.8636 - val_loss: 3.8176e-06 - val_mean_absolute_percentage_error: 0.2123\n",
            "Epoch 26/40\n",
            "501/501 [==============================] - 24s 48ms/step - loss: 7.3873e-06 - mean_absolute_percentage_error: 254.3877 - val_loss: 6.4669e-06 - val_mean_absolute_percentage_error: 0.3365\n",
            "Epoch 27/40\n",
            "501/501 [==============================] - 22s 44ms/step - loss: 8.0188e-06 - mean_absolute_percentage_error: 199.9983 - val_loss: 4.4334e-06 - val_mean_absolute_percentage_error: 0.2537\n",
            "Epoch 28/40\n",
            "501/501 [==============================] - 22s 45ms/step - loss: 6.7747e-06 - mean_absolute_percentage_error: 231.8053 - val_loss: 4.0583e-06 - val_mean_absolute_percentage_error: 0.2360\n",
            "Epoch 29/40\n",
            "501/501 [==============================] - 23s 46ms/step - loss: 7.2725e-06 - mean_absolute_percentage_error: 164.6731 - val_loss: 3.6620e-06 - val_mean_absolute_percentage_error: 0.2177\n",
            "Epoch 30/40\n",
            "501/501 [==============================] - 22s 45ms/step - loss: 7.0139e-06 - mean_absolute_percentage_error: 162.5423 - val_loss: 1.3492e-05 - val_mean_absolute_percentage_error: 0.5418\n",
            "Epoch 31/40\n",
            "501/501 [==============================] - 23s 46ms/step - loss: 7.0548e-06 - mean_absolute_percentage_error: 157.9287 - val_loss: 3.3883e-06 - val_mean_absolute_percentage_error: 0.2027\n",
            "Epoch 32/40\n",
            "501/501 [==============================] - 22s 43ms/step - loss: 6.7941e-06 - mean_absolute_percentage_error: 175.1758 - val_loss: 6.9789e-06 - val_mean_absolute_percentage_error: 0.3565\n",
            "Epoch 33/40\n",
            "501/501 [==============================] - 23s 47ms/step - loss: 6.5700e-06 - mean_absolute_percentage_error: 177.1609 - val_loss: 3.8971e-06 - val_mean_absolute_percentage_error: 0.2346\n",
            "Epoch 34/40\n",
            "501/501 [==============================] - 25s 49ms/step - loss: 6.2840e-06 - mean_absolute_percentage_error: 140.2618 - val_loss: 7.8021e-06 - val_mean_absolute_percentage_error: 0.3944\n",
            "Epoch 35/40\n",
            "501/501 [==============================] - 23s 46ms/step - loss: 6.4232e-06 - mean_absolute_percentage_error: 137.9050 - val_loss: 7.1029e-06 - val_mean_absolute_percentage_error: 0.3699\n",
            "Epoch 36/40\n",
            "501/501 [==============================] - 23s 45ms/step - loss: 6.4103e-06 - mean_absolute_percentage_error: 148.6576 - val_loss: 3.4919e-06 - val_mean_absolute_percentage_error: 0.2083\n",
            "608/608 [==============================] - 6s 9ms/step\n",
            "2435/2435 [==============================] - 22s 9ms/step\n"
          ]
        }
      ]
    },
    {
      "cell_type": "markdown",
      "metadata": {
        "id": "3TzZdd8L-B7G"
      },
      "source": [
        "### Plot results"
      ]
    },
    {
      "cell_type": "code",
      "source": [
        "results"
      ],
      "metadata": {
        "colab": {
          "base_uri": "https://localhost:8080/"
        },
        "id": "yQQA92529A2T",
        "outputId": "eb6f7335-956f-48db-c1b0-94c014656d81"
      },
      "execution_count": 30,
      "outputs": [
        {
          "output_type": "execute_result",
          "data": {
            "text/plain": [
              "{'LSTM': {'pred':       Name       Date      Close\n",
              "  0      FPT 2020-08-14  48.114563\n",
              "  1      FPT 2020-08-14  48.133647\n",
              "  2      FPT 2020-08-14  48.128053\n",
              "  3      FPT 2020-08-14  48.106092\n",
              "  4      FPT 2020-08-14  48.099654\n",
              "  ...    ...        ...        ...\n",
              "  19446  FPT 2020-12-22  57.968188\n",
              "  19447  FPT 2020-12-22  57.983586\n",
              "  19448  FPT 2020-12-22  57.982328\n",
              "  19449  FPT 2020-12-22  57.976014\n",
              "  19450  FPT 2020-12-22  57.888954\n",
              "  \n",
              "  [19451 rows x 3 columns],\n",
              "  'mse': <tf.Tensor: shape=(), dtype=float32, numpy=1.3055751e-05>,\n",
              "  'mape': <tf.Tensor: shape=(), dtype=float32, numpy=0.3246166>,\n",
              "  'train_mse': <tf.Tensor: shape=(), dtype=float32, numpy=1.3055751e-05>,\n",
              "  'train_mape': <tf.Tensor: shape=(), dtype=float32, numpy=0.3246166>}}"
            ]
          },
          "metadata": {},
          "execution_count": 30
        }
      ]
    },
    {
      "cell_type": "code",
      "metadata": {
        "id": "i5QKnpLM8_lO",
        "colab": {
          "base_uri": "https://localhost:8080/",
          "height": 233
        },
        "outputId": "bfb5c14d-6fc5-42d4-d3e5-450c87d60567"
      },
      "source": [
        "#Line Plot\n",
        "ncols, nrows = factor_int(len(results))\n",
        "fig, axes = plt.subplots(nrows, ncols, squeeze=False, figsize=(9*ncols, 3*nrows), sharex=True, sharey=True)\n",
        "\n",
        "#Get actual prices\n",
        "real_df = dataset_to_df(X_test, y_test, lag=lag)\n",
        "if stock_name != None:\n",
        "  real_df = real_df[real_df[\"Name\"] == stock_name]\n",
        "\n",
        "for (name, res), ax in zip(results.items(), axes.flatten()):\n",
        "  #Plot predictions\n",
        "  pred_df = results[name]['pred']\n",
        "  ax.plot(pred_df['Date'], pred_df['Close'], label=f\"{name} predicted price\")\n",
        "  #Plot actual prices\n",
        "  ax.plot(real_df['Date'], real_df['Close'], label=\"Actual price\")\n",
        "  #Plot formatting\n",
        "  ax.legend()\n",
        "  ax.set_ylabel('Price', fontsize = 9)\n",
        "\n",
        "#Figure Formatting\n",
        "fig.suptitle(f'Predicted prices for the {stock_name} stock', fontsize = 20, fontdict=dict(weight='bold'))\n",
        "fig.show()"
      ],
      "execution_count": 31,
      "outputs": [
        {
          "output_type": "display_data",
          "data": {
            "text/plain": [
              "<Figure size 648x216 with 1 Axes>"
            ],
            "image/png": "[encoded data removed]"
          },
          "metadata": {
            "needs_background": "light"
          }
        }
      ]
    },
    {
      "cell_type": "code",
      "metadata": {
        "id": "5W3OwAHp-UMk"
      },
      "source": [
        "mse_scores = []\n",
        "mape_scores = []\n",
        "\n",
        "mse_scores.append(results[name]['mse'])\n",
        "mape_scores.append(results[name]['mape'])"
      ],
      "execution_count": 32,
      "outputs": []
    },
    {
      "cell_type": "code",
      "source": [
        "#Mean Square Error\n",
        "mse_scores"
      ],
      "metadata": {
        "colab": {
          "base_uri": "https://localhost:8080/"
        },
        "id": "TQrr49TBBg9Q",
        "outputId": "87f0edd4-ec0d-4b36-a6d6-bee92fe314d6"
      },
      "execution_count": 33,
      "outputs": [
        {
          "output_type": "execute_result",
          "data": {
            "text/plain": [
              "[<tf.Tensor: shape=(), dtype=float32, numpy=1.3055751e-05>]"
            ]
          },
          "metadata": {},
          "execution_count": 33
        }
      ]
    },
    {
      "cell_type": "code",
      "source": [
        "#Mean Absolute Percentage Error\n",
        "mape_scores"
      ],
      "metadata": {
        "colab": {
          "base_uri": "https://localhost:8080/"
        },
        "id": "yfRt7GpVBqbg",
        "outputId": "04c7d2c9-548c-49f3-e268-5f4c9640ec7f"
      },
      "execution_count": 34,
      "outputs": [
        {
          "output_type": "execute_result",
          "data": {
            "text/plain": [
              "[<tf.Tensor: shape=(), dtype=float32, numpy=0.3246166>]"
            ]
          },
          "metadata": {},
          "execution_count": 34
        }
      ]
    }
  ]
}