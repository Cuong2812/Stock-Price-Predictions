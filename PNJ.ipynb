{
  "nbformat": 4,
  "nbformat_minor": 0,
  "metadata": {
    "colab": {
      "provenance": [],
      "include_colab_link": true
    },
    "kernelspec": {
      "name": "python3",
      "display_name": "Python 3"
    },
    "language_info": {
      "name": "python"
    }
  },
  "cells": [
    {
      "cell_type": "markdown",
      "metadata": {
        "id": "view-in-github",
        "colab_type": "text"
      },
      "source": [
        "<a href=\"https://colab.research.google.com/github/Cuong2812/Stock-Price-Predictions/blob/main/PNJ.ipynb\" target=\"_parent\"><img src=\"https://colab.research.google.com/assets/colab-badge.svg\" alt=\"Open In Colab\"/></a>"
      ]
    },
    {
      "cell_type": "markdown",
      "metadata": {
        "id": "IEz_72623TLO"
      },
      "source": [
        "# Stock Price Predictions of MSN stock\n",
        "\n"
      ]
    },
    {
      "cell_type": "markdown",
      "metadata": {
        "id": "oK9rugKk4FAN"
      },
      "source": [
        "## Import Libraries"
      ]
    },
    {
      "cell_type": "code",
      "metadata": {
        "id": "1PUnwB3P4Gbg"
      },
      "source": [
        "import pandas as pd\n",
        "import numpy as np\n",
        "import matplotlib.pyplot as plt\n",
        "import seaborn as sns\n",
        "import math\n",
        "\n",
        "from tensorflow.keras.models import Sequential\n",
        "from tensorflow.keras.layers import Dense, Dropout, LSTM, Bidirectional, Activation\n",
        "from tensorflow.keras.callbacks import ModelCheckpoint, EarlyStopping\n",
        "from tensorflow.keras.metrics import MeanAbsolutePercentageError, MeanSquaredError\n",
        "from tensorflow.keras.optimizers import Adam\n",
        "\n",
        "from sklearn.preprocessing import MinMaxScaler, OrdinalEncoder"
      ],
      "execution_count": 4,
      "outputs": []
    },
    {
      "cell_type": "markdown",
      "metadata": {
        "id": "eBom6uRfymgR"
      },
      "source": [
        "### Auxilary functions"
      ]
    },
    {
      "cell_type": "code",
      "metadata": {
        "id": "fsR2HLxkwOw2"
      },
      "source": [
        "def write_values(rects, ax):\n",
        "  heights = [r.get_height() for r in rects]\n",
        "  rel_heights = [h/max(heights) for h in heights]\n",
        "  idx = heights.index(max(heights))\n",
        "  for i,(r,h, rh) in enumerate(zip(rects, heights, rel_heights)):\n",
        "      ax.text(r.get_x() + r.get_width()/2.0, h + max(heights) * .01, f'{h:.2}', ha='center')\n",
        "\n",
        "def factor_int(n):\n",
        "  val = math.ceil(math.sqrt(n))\n",
        "  val2 = int(n/val)\n",
        "  while val2 * val != float(n):\n",
        "    val -= 1\n",
        "    val2 = int(n/val)\n",
        "  return val, val2"
      ],
      "execution_count": 5,
      "outputs": []
    },
    {
      "cell_type": "markdown",
      "metadata": {
        "id": "CLCNSKez3WMF"
      },
      "source": [
        "## Import Dataset"
      ]
    },
    {
      "cell_type": "code",
      "metadata": {
        "id": "QDFbe2fO3vcx"
      },
      "source": [
        "PNJ = pd.read_csv('/content/PNJ.csv', usecols = ['Name','Date','Open','Close','High','Low','Volume'])"
      ],
      "execution_count": 6,
      "outputs": []
    },
    {
      "cell_type": "code",
      "source": [
        "PNJ['Date'] = pd.to_datetime(PNJ['Date'])"
      ],
      "metadata": {
        "id": "sWdviNxIp6fO"
      },
      "execution_count": 7,
      "outputs": []
    },
    {
      "cell_type": "markdown",
      "metadata": {
        "id": "VMu9yiDzeHiX"
      },
      "source": [
        "## Create Dataset"
      ]
    },
    {
      "cell_type": "code",
      "metadata": {
        "id": "zUWkkyxtmCUD"
      },
      "source": [
        "#Stock name encoder\n",
        "name_encoder = OrdinalEncoder()\n",
        "#Value scaler\n",
        "scaler = MinMaxScaler(feature_range=(0,1))\n",
        "\n",
        "feature_cols = [\n",
        "                # 'Movement',\n",
        "                'Close', \n",
        "                # 'Open', 'Daily_High', 'Daily_Low', \"Volume\", \n",
        "                # 'avg',\n",
        "                # \"ma7\", \"ma21\", \"ema26\", \"ema12\", \"MACD\", \"upper_band\", \"lower_band\", \"ema\", \"momentum\",\n",
        "                \"Year\", \"Month\", \"Day\", \"Name\"]\n",
        "\n",
        "def create_timeseries(data, lag):\n",
        "  x = []\n",
        "  y = []\n",
        "\n",
        "  for i in range(lag, len(data)):\n",
        "      x.append(data[i - lag:i, :])\n",
        "      y.append(data[i, 0])\n",
        "  \n",
        "  x, y = np.array(x), np.array(y)\n",
        "  x = np.reshape(x, (x.shape[0], x.shape[1], -1))\n",
        "\n",
        "  assert len(x) == len(y)\n",
        "  return x, y\n",
        "\n",
        "def create_lag_features(data, lag):\n",
        "  x = []\n",
        "  y = []\n",
        "\n",
        "  for i in range(lag, len(data)):\n",
        "      x.append(data[i - lag:i, :])\n",
        "      y.append(data[i, 0])\n",
        "  \n",
        "  x, y = np.array(x), np.array(y)\n",
        "  x = np.reshape(x, (x.shape[0], -1))\n",
        "\n",
        "  assert len(x) == len(y)\n",
        "  return x, y\n",
        "\n",
        "def create_dataset(df, lag=60, dataset_format='timeseries', stock=None, target=\"regression\"):\n",
        "  if stock:\n",
        "    #Keep only one specific stock\n",
        "    X = df[df['Name'] == stock].copy()\n",
        "  else:\n",
        "    #Keep all stocks\n",
        "    X = df.copy()\n",
        "  \n",
        "  #Convert name from string to int\n",
        "  X['Name'] = name_encoder.fit_transform(X['Name'].to_numpy().reshape(-1,1))\n",
        "\n",
        "  #Convert volume from string to float\n",
        "  X['Volume'] = X['Volume'].astype('float')\n",
        "\n",
        "  #Create additional features and technical indicators\n",
        "  #Average of given prices\n",
        "  X['avg'] = X[['Close', 'Open', 'High', 'Low']].mean().mean()\n",
        "  # Create 7 and 21 days Moving Average\n",
        "  X['ma7'] = X['Close'].rolling(window = 7).mean()\n",
        "  X['ma21'] = X['Close'].rolling(window = 21).mean()\n",
        "  #Create MACD\n",
        "  X['ema26'] = X['Close'].ewm(span=26).mean()\n",
        "  X['ema12'] = X['Close'].ewm(span=12).mean()\n",
        "  X['MACD'] = (X['ema12']-X['ema26'])\n",
        "  #Create Bollinger Bands\n",
        "  X['20sd'] = X['Close'].rolling(window = 20).std()\n",
        "  X['upper_band'] = (X['Close'].rolling(window = 20).mean()) + (X['20sd']*2)\n",
        "  X['lower_band'] = (X['Close'].rolling(window = 20).mean()) - (X['20sd']*2)\n",
        "  #Create Exponential moving average\n",
        "  X['ema'] = X['Close'].ewm(com=0.5).mean()\n",
        "  #Create Momentum\n",
        "  X['momentum'] = X['Close'].rolling(window=10).apply(lambda x: x.iat[-1] - x.iat[0])\n",
        "\n",
        "\n",
        "  #Break day into year, month, day and time(hours, minutes, seconds)\n",
        "  X['Date'] = pd.to_datetime(X['Date'])\n",
        "  X['Year'] = X['Date'].dt.year\n",
        "  X['Month'] = X['Date'].dt.month\n",
        "  X['Day'] = X['Date'].dt.day\n",
        "  X['Time'] = X['Date'].dt.time\n",
        "\n",
        "  #Throw away original date column\n",
        "  X = X.drop(columns=['Date'])\n",
        "  year = X['Year']\n",
        "\n",
        "  #Move target column to first column\n",
        "  if target == 'regression':\n",
        "    close = X.pop(\"Close\")\n",
        "    X.insert(0, \"Close\", close)\n",
        "  elif target == 'classification':\n",
        "    X['Movement'] = X['Close'].rolling(window=2).apply(lambda x: 1 if x.iat[-1] > x.iat[0] else 0)\n",
        "    X['Movement'].iat[0] = 0\n",
        "    movement = X.pop(\"Movement\")\n",
        "    X.insert(0, \"Movement\", movement)\n",
        "  else:\n",
        "    raise ValueError()\n",
        "\n",
        "  #Keep only necessary features\n",
        "  X = pd.DataFrame(X, columns=feature_cols)\n",
        "\n",
        "  # Normalize data\n",
        "  if scaler != None:\n",
        "    X = scaler.fit_transform(X)\n",
        "  else:\n",
        "    X = X.to_numpy()\n",
        "\n",
        "  #Split into train, test\n",
        "  train_points = year\n",
        "  train_data = X[0:100247, :]\n",
        "  \n",
        "  test_points = year\n",
        "  test_data = X[-25062:, :]\n",
        "\n",
        "  if dataset_format == 'timeseries':\n",
        "    X_train, y_train = create_timeseries(train_data, lag)\n",
        "    X_test, y_test = create_timeseries(test_data, lag)\n",
        "  elif dataset_format == 'lag_features':\n",
        "    X_train, y_train = create_lag_features(train_data, lag)\n",
        "    X_test, y_test = create_lag_features(test_data, lag)\n",
        "\n",
        "  return (X_train, y_train), (X_test, y_test)\n",
        "\n",
        "\n",
        "def next_day(row):\n",
        "  year, month, day = round(row['Year'].item()), round(row['Month'].item()), round(row['Day'].item())\n",
        "  new_date = pd.Timestamp(year=year, month=month, day=day)\n",
        "  return new_date\n",
        "\n",
        "def dataset_to_df(X, Y, lag=60):\n",
        "  if X.ndim == 3:\n",
        "    last_days = X[:, -1, :]\n",
        "  elif X.ndim == 2:\n",
        "    n_feat = int(X.shape[1]/lag)\n",
        "    last_days = X[:, -n_feat:]\n",
        "  new_df = pd.DataFrame(last_days, columns=feature_cols)\n",
        "  #Replace closing price with y and scale back to original values\n",
        "  new_df['Close'] = Y\n",
        "  if scaler != None:\n",
        "    new_df = pd.DataFrame(scaler.inverse_transform(new_df), columns=feature_cols)\n",
        "  #Go to next day (i.e. day of the prediction)\n",
        "  new_df['Date'] = new_df.apply(next_day, axis=1)\n",
        "  #Convert name to string\n",
        "  new_df[\"Name\"] = name_encoder.inverse_transform(new_df[\"Name\"].to_numpy().reshape(-1, 1))\n",
        "\n",
        "  return pd.DataFrame(new_df, columns=['Name', \"Date\", \"Close\"])"
      ],
      "execution_count": 8,
      "outputs": []
    },
    {
      "cell_type": "code",
      "metadata": {
        "id": "I2kaxF0ffGHv",
        "colab": {
          "base_uri": "https://localhost:8080/"
        },
        "outputId": "dc9032ba-aac8-42b2-c410-3c6afb14892f"
      },
      "source": [
        "(X_train, y_train), (X_test, y_test) = create_dataset(PNJ, stock=\"PNJ\")\n",
        "\n",
        "print(f\"X_train: {str(X_train.shape):14}, y_train: {y_train.shape}\")\n",
        "print(f\"X_test:  {str(X_test.shape):14}, y_test:   {y_test.shape}\")"
      ],
      "execution_count": 9,
      "outputs": [
        {
          "output_type": "stream",
          "name": "stdout",
          "text": [
            "X_train: (100187, 60, 5), y_train: (100187,)\n",
            "X_test:  (25002, 60, 5), y_test:   (25002,)\n"
          ]
        }
      ]
    },
    {
      "cell_type": "code",
      "metadata": {
        "id": "goIH_9KT49Gs",
        "colab": {
          "base_uri": "https://localhost:8080/",
          "height": 419
        },
        "outputId": "d71e62b7-d0f7-4152-ab12-65203b732152"
      },
      "source": [
        "train_df = dataset_to_df(X_train, y_train)\n",
        "test_df = dataset_to_df(X_test, y_test)\n",
        "\n",
        "# Line plot\n",
        "fig, ax = plt.subplots(figsize=(15, 6))\n",
        "\n",
        "plt.plot(train_df['Date'], train_df['Close'], label=\"Train\")\n",
        "plt.plot(test_df['Date'], test_df['Close'], label=\"Test\")\n",
        "\n",
        "# Formatting\n",
        "ax.set_title('Closing Price', fontsize = 20, loc='center', fontdict=dict(weight='bold'))\n",
        "ax.set_xlabel('Year', fontsize = 16, fontdict=dict(weight='bold'))\n",
        "ax.set_ylabel('Price', fontsize = 16, fontdict=dict(weight='bold'))\n",
        "ax.legend()\n",
        "plt.tick_params(axis='y', which='major', labelsize=16)\n",
        "plt.tick_params(axis='x', which='major', labelsize=16)"
      ],
      "execution_count": 10,
      "outputs": [
        {
          "output_type": "display_data",
          "data": {
            "text/plain": [
              "<Figure size 1080x432 with 1 Axes>"
            ],
            "image/png": "[encoded data removed]"
          },
          "metadata": {
            "needs_background": "light"
          }
        }
      ]
    },
    {
      "cell_type": "markdown",
      "metadata": {
        "id": "SUeP_4zbcyKU"
      },
      "source": [
        "## Predicting prices with regression"
      ]
    },
    {
      "cell_type": "code",
      "metadata": {
        "id": "1P2YjxP09QrO"
      },
      "source": [
        "results = {}\n",
        "target = \"regression\"\n",
        "\n",
        "#The following variables can be changed to alter the experiment\n",
        "\n",
        "#Value scaler can be set to None for no scaling\n",
        "scaler = MinMaxScaler(feature_range=(0,1))\n",
        "# scaler = None\n",
        "\n",
        "feature_cols = [\n",
        "                'Close', \n",
        "                'Open', 'High', 'Low', \"Volume\", \n",
        "                'avg',\n",
        "                # \"ma7\", \"ma21\", \"ema26\", \"ema12\", \"MACD\", \"upper_band\", \"lower_band\", \"ema\", \"momentum\",\n",
        "                \"Year\", \"Month\", \"Day\", \"Name\"]\n",
        "lag = 30\n",
        "stock_name = \"PNJ\""
      ],
      "execution_count": 11,
      "outputs": []
    },
    {
      "cell_type": "markdown",
      "metadata": {
        "id": "1LYdpaZ_93J-"
      },
      "source": [
        "### Neural models"
      ]
    },
    {
      "cell_type": "markdown",
      "metadata": {
        "id": "qQHy9gvmcQGz"
      },
      "source": [
        "#### Define models"
      ]
    },
    {
      "cell_type": "code",
      "metadata": {
        "id": "hJ1d6Ndwc0q9"
      },
      "source": [
        "def LSTM_model(inp_shape):\n",
        "  model = Sequential()\n",
        "  model.add(LSTM(32, input_shape=(inp_shape), return_sequences = True))\n",
        "  model.add(LSTM(16))\n",
        "  model.add(Dense(1))\n",
        "  model.add(Activation('relu'))\n",
        "  return model\n"
      ],
      "execution_count": 12,
      "outputs": []
    },
    {
      "cell_type": "markdown",
      "metadata": {
        "id": "M6UuBTRY960C"
      },
      "source": [
        "#### Train models"
      ]
    },
    {
      "cell_type": "code",
      "metadata": {
        "id": "ruxAdaBO6Fup",
        "colab": {
          "base_uri": "https://localhost:8080/"
        },
        "outputId": "e8359230-39fc-401f-ab78-b7c7730a0ec1"
      },
      "source": [
        "model_create_funcs = {\"LSTM\" : (LSTM_model, \"timeseries\")}\n",
        "\n",
        "for name, (create_func, dataset_format) in model_create_funcs.items():\n",
        "  #Create dataset\n",
        "  (X_train, y_train), (X_test, y_test) = create_dataset(PNJ, lag=lag, dataset_format=dataset_format, stock=stock_name, target=target)\n",
        "  #Create model\n",
        "  if X_train.ndim == 3:\n",
        "    model = create_func((X_train.shape[1], X_train.shape[2]))\n",
        "  elif X_train.ndim == 2:\n",
        "    model = create_func((X_train.shape[1],))\n",
        "  # model.summary()\n",
        "  model.compile(optimizer='adam', loss='mean_squared_error', metrics=['mean_absolute_percentage_error'])\n",
        "\n",
        "  #Define callbacks\n",
        "  early_stopper = EarlyStopping(monitor=\"val_loss\", patience=5, restore_best_weights=True)\n",
        "  cbs = [early_stopper]\n",
        "\n",
        "  #Train model\n",
        "  model.fit(X_train, y_train, validation_split=0.1, epochs=40, batch_size=90, verbose=1, callbacks=cbs)\n",
        "\n",
        "  #Make predictions on test set\n",
        "  predicted_prices = model.predict(X_test)\n",
        "  #Convert predictions\n",
        "  pred_df = dataset_to_df(X_test, predicted_prices, lag=lag)\n",
        "  #Get metrics on test set\n",
        "  mse = MeanSquaredError()(predicted_prices, y_test)\n",
        "  mape = MeanAbsolutePercentageError()(predicted_prices, y_test) \n",
        "  #Make predictions on train set\n",
        "  predicted_prices = model.predict(X_train)\n",
        "  #Get metrics on train set\n",
        "  train_mse = MeanSquaredError()(predicted_prices, y_train)\n",
        "  train_mape = MeanAbsolutePercentageError()(predicted_prices, y_train)\n",
        "\n",
        "  results[name] = {\n",
        "      \"pred\" : pred_df,\n",
        "      \"mse\" : mse,\n",
        "      \"mape\" : mape,\n",
        "      \"train_mse\" : mse,\n",
        "      \"train_mape\" : mape\n",
        "  }"
      ],
      "execution_count": 14,
      "outputs": [
        {
          "output_type": "stream",
          "name": "stdout",
          "text": [
            "Epoch 1/40\n",
            "1003/1003 [==============================] - 43s 39ms/step - loss: 0.0030 - mean_absolute_percentage_error: 672.0132 - val_loss: 7.8222e-05 - val_mean_absolute_percentage_error: 2.4452\n",
            "Epoch 2/40\n",
            "1003/1003 [==============================] - 39s 39ms/step - loss: 1.5651e-04 - mean_absolute_percentage_error: 690.2605 - val_loss: 5.1676e-05 - val_mean_absolute_percentage_error: 1.8913\n",
            "Epoch 3/40\n",
            "1003/1003 [==============================] - 38s 38ms/step - loss: 1.5356e-04 - mean_absolute_percentage_error: 551.3406 - val_loss: 2.0346e-05 - val_mean_absolute_percentage_error: 1.0294\n",
            "Epoch 4/40\n",
            "1003/1003 [==============================] - 39s 38ms/step - loss: 1.4917e-04 - mean_absolute_percentage_error: 499.0633 - val_loss: 6.8312e-05 - val_mean_absolute_percentage_error: 2.2723\n",
            "Epoch 5/40\n",
            "1003/1003 [==============================] - 42s 41ms/step - loss: 1.5069e-04 - mean_absolute_percentage_error: 545.6732 - val_loss: 1.5821e-05 - val_mean_absolute_percentage_error: 0.8867\n",
            "Epoch 6/40\n",
            "1003/1003 [==============================] - 39s 39ms/step - loss: 1.4641e-04 - mean_absolute_percentage_error: 479.0081 - val_loss: 1.9137e-05 - val_mean_absolute_percentage_error: 1.0505\n",
            "Epoch 7/40\n",
            "1003/1003 [==============================] - 39s 39ms/step - loss: 1.4716e-04 - mean_absolute_percentage_error: 414.3374 - val_loss: 1.5603e-05 - val_mean_absolute_percentage_error: 0.9931\n",
            "Epoch 8/40\n",
            "1003/1003 [==============================] - 39s 39ms/step - loss: 1.4095e-04 - mean_absolute_percentage_error: 447.9231 - val_loss: 3.3227e-05 - val_mean_absolute_percentage_error: 1.7542\n",
            "Epoch 9/40\n",
            "1003/1003 [==============================] - 39s 39ms/step - loss: 1.3892e-04 - mean_absolute_percentage_error: 322.9296 - val_loss: 1.0880e-05 - val_mean_absolute_percentage_error: 0.7267\n",
            "Epoch 10/40\n",
            "1003/1003 [==============================] - 40s 40ms/step - loss: 1.3924e-04 - mean_absolute_percentage_error: 254.1011 - val_loss: 2.2143e-05 - val_mean_absolute_percentage_error: 1.2852\n",
            "Epoch 11/40\n",
            "1003/1003 [==============================] - 39s 39ms/step - loss: 1.3842e-04 - mean_absolute_percentage_error: 406.9077 - val_loss: 1.3125e-05 - val_mean_absolute_percentage_error: 0.8746\n",
            "Epoch 12/40\n",
            "1003/1003 [==============================] - 40s 40ms/step - loss: 1.3837e-04 - mean_absolute_percentage_error: 284.6117 - val_loss: 1.3932e-05 - val_mean_absolute_percentage_error: 0.9573\n",
            "Epoch 13/40\n",
            "1003/1003 [==============================] - 40s 40ms/step - loss: 1.3639e-04 - mean_absolute_percentage_error: 314.4330 - val_loss: 8.7073e-06 - val_mean_absolute_percentage_error: 0.6460\n",
            "Epoch 14/40\n",
            "1003/1003 [==============================] - 43s 43ms/step - loss: 1.3635e-04 - mean_absolute_percentage_error: 314.1403 - val_loss: 2.7515e-05 - val_mean_absolute_percentage_error: 1.5823\n",
            "Epoch 15/40\n",
            "1003/1003 [==============================] - 40s 39ms/step - loss: 1.3607e-04 - mean_absolute_percentage_error: 199.7033 - val_loss: 7.9469e-06 - val_mean_absolute_percentage_error: 0.6053\n",
            "Epoch 16/40\n",
            "1003/1003 [==============================] - 40s 40ms/step - loss: 1.3659e-04 - mean_absolute_percentage_error: 292.6927 - val_loss: 1.0457e-05 - val_mean_absolute_percentage_error: 0.8030\n",
            "Epoch 17/40\n",
            "1003/1003 [==============================] - 39s 39ms/step - loss: 1.3564e-04 - mean_absolute_percentage_error: 199.0413 - val_loss: 3.0246e-05 - val_mean_absolute_percentage_error: 1.5785\n",
            "Epoch 18/40\n",
            "1003/1003 [==============================] - 39s 39ms/step - loss: 1.3418e-04 - mean_absolute_percentage_error: 222.6685 - val_loss: 1.1066e-05 - val_mean_absolute_percentage_error: 0.8638\n",
            "Epoch 19/40\n",
            "1003/1003 [==============================] - 41s 41ms/step - loss: 1.3365e-04 - mean_absolute_percentage_error: 220.5424 - val_loss: 2.1724e-05 - val_mean_absolute_percentage_error: 1.3732\n",
            "Epoch 20/40\n",
            "1003/1003 [==============================] - 40s 39ms/step - loss: 1.3555e-04 - mean_absolute_percentage_error: 172.4314 - val_loss: 8.1493e-06 - val_mean_absolute_percentage_error: 0.6393\n",
            "783/783 [==============================] - 8s 9ms/step\n",
            "3132/3132 [==============================] - 31s 10ms/step\n"
          ]
        }
      ]
    },
    {
      "cell_type": "markdown",
      "metadata": {
        "id": "3TzZdd8L-B7G"
      },
      "source": [
        "### Plot results"
      ]
    },
    {
      "cell_type": "code",
      "source": [
        "results"
      ],
      "metadata": {
        "colab": {
          "base_uri": "https://localhost:8080/"
        },
        "id": "yQQA92529A2T",
        "outputId": "17e32c37-c8d9-4399-82a0-a1b5a61d13ee"
      },
      "execution_count": 15,
      "outputs": [
        {
          "output_type": "execute_result",
          "data": {
            "text/plain": [
              "{'LSTM': {'pred':       Name       Date      Close\n",
              "  0      PNJ 2020-06-23  59.455328\n",
              "  1      PNJ 2020-06-23  59.434465\n",
              "  2      PNJ 2020-06-23  59.420132\n",
              "  3      PNJ 2020-06-23  59.415999\n",
              "  4      PNJ 2020-06-23  59.408716\n",
              "  ...    ...        ...        ...\n",
              "  25027  PNJ 2020-12-22  78.457116\n",
              "  25028  PNJ 2020-12-22  78.450284\n",
              "  25029  PNJ 2020-12-22  78.446631\n",
              "  25030  PNJ 2020-12-22  78.442033\n",
              "  25031  PNJ 2020-12-22  78.407751\n",
              "  \n",
              "  [25032 rows x 3 columns],\n",
              "  'mse': <tf.Tensor: shape=(), dtype=float32, numpy=2.0698675e-05>,\n",
              "  'mape': <tf.Tensor: shape=(), dtype=float32, numpy=1.2412615>,\n",
              "  'train_mse': <tf.Tensor: shape=(), dtype=float32, numpy=2.0698675e-05>,\n",
              "  'train_mape': <tf.Tensor: shape=(), dtype=float32, numpy=1.2412615>}}"
            ]
          },
          "metadata": {},
          "execution_count": 15
        }
      ]
    },
    {
      "cell_type": "code",
      "metadata": {
        "id": "i5QKnpLM8_lO",
        "colab": {
          "base_uri": "https://localhost:8080/",
          "height": 233
        },
        "outputId": "15fbb27d-2cba-4665-9db2-6a25a241ac75"
      },
      "source": [
        "#Line Plot\n",
        "ncols, nrows = factor_int(len(results))\n",
        "fig, axes = plt.subplots(nrows, ncols, squeeze=False, figsize=(9*ncols, 3*nrows), sharex=True, sharey=True)\n",
        "\n",
        "#Get actual prices\n",
        "real_df = dataset_to_df(X_test, y_test, lag=lag)\n",
        "if stock_name != None:\n",
        "  real_df = real_df[real_df[\"Name\"] == stock_name]\n",
        "\n",
        "for (name, res), ax in zip(results.items(), axes.flatten()):\n",
        "  #Plot predictions\n",
        "  pred_df = results[name]['pred']\n",
        "  ax.plot(pred_df['Date'], pred_df['Close'], label=f\"{name} predicted price\")\n",
        "  #Plot actual prices\n",
        "  ax.plot(real_df['Date'], real_df['Close'], label=\"Actual price\")\n",
        "  #Plot formatting\n",
        "  ax.legend()\n",
        "  ax.set_ylabel('Price', fontsize = 9)\n",
        "\n",
        "#Figure Formatting\n",
        "fig.suptitle(f'Predicted prices for the {stock_name} stock', fontsize = 20, fontdict=dict(weight='bold'))\n",
        "fig.show()"
      ],
      "execution_count": 16,
      "outputs": [
        {
          "output_type": "display_data",
          "data": {
            "text/plain": [
              "<Figure size 648x216 with 1 Axes>"
            ],
            "image/png": "[encoded data removed]"
          },
          "metadata": {
            "needs_background": "light"
          }
        }
      ]
    },
    {
      "cell_type": "code",
      "metadata": {
        "id": "5W3OwAHp-UMk"
      },
      "source": [
        "mse_scores = []\n",
        "mape_scores = []\n",
        "\n",
        "mse_scores.append(results[name]['mse'])\n",
        "mape_scores.append(results[name]['mape'])"
      ],
      "execution_count": 17,
      "outputs": []
    },
    {
      "cell_type": "code",
      "source": [
        "#Mean Square Error\n",
        "mse_scores"
      ],
      "metadata": {
        "colab": {
          "base_uri": "https://localhost:8080/"
        },
        "id": "TQrr49TBBg9Q",
        "outputId": "c36fd966-717c-47d3-ccc3-0d3e705c747e"
      },
      "execution_count": 18,
      "outputs": [
        {
          "output_type": "execute_result",
          "data": {
            "text/plain": [
              "[<tf.Tensor: shape=(), dtype=float32, numpy=2.0698675e-05>]"
            ]
          },
          "metadata": {},
          "execution_count": 18
        }
      ]
    },
    {
      "cell_type": "code",
      "source": [
        "#Mean Absolute Percentage Error\n",
        "mape_scores"
      ],
      "metadata": {
        "colab": {
          "base_uri": "https://localhost:8080/"
        },
        "id": "yfRt7GpVBqbg",
        "outputId": "1570c9ff-c514-4410-9543-dbf230160014"
      },
      "execution_count": 19,
      "outputs": [
        {
          "output_type": "execute_result",
          "data": {
            "text/plain": [
              "[<tf.Tensor: shape=(), dtype=float32, numpy=1.2412615>]"
            ]
          },
          "metadata": {},
          "execution_count": 19
        }
      ]
    }
  ]
}