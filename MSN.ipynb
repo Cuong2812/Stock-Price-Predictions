{
  "nbformat": 4,
  "nbformat_minor": 0,
  "metadata": {
    "colab": {
      "provenance": [],
      "include_colab_link": true
    },
    "kernelspec": {
      "name": "python3",
      "display_name": "Python 3"
    },
    "language_info": {
      "name": "python"
    }
  },
  "cells": [
    {
      "cell_type": "markdown",
      "metadata": {
        "id": "view-in-github",
        "colab_type": "text"
      },
      "source": [
        "<a href=\"https://colab.research.google.com/github/Cuong2812/Stock-Price-Predictions/blob/main/MSN.ipynb\" target=\"_parent\"><img src=\"https://colab.research.google.com/assets/colab-badge.svg\" alt=\"Open In Colab\"/></a>"
      ]
    },
    {
      "cell_type": "markdown",
      "metadata": {
        "id": "IEz_72623TLO"
      },
      "source": [
        "# Stock Price Predictions of MSN stock\n",
        "\n"
      ]
    },
    {
      "cell_type": "markdown",
      "metadata": {
        "id": "oK9rugKk4FAN"
      },
      "source": [
        "## Import Libraries"
      ]
    },
    {
      "cell_type": "code",
      "metadata": {
        "id": "1PUnwB3P4Gbg"
      },
      "source": [
        "import pandas as pd\n",
        "import numpy as np\n",
        "import matplotlib.pyplot as plt\n",
        "import seaborn as sns\n",
        "import math\n",
        "\n",
        "from tensorflow.keras.models import Sequential\n",
        "from tensorflow.keras.layers import Dense, Dropout, LSTM, Bidirectional, Activation\n",
        "from tensorflow.keras.callbacks import ModelCheckpoint, EarlyStopping\n",
        "from tensorflow.keras.metrics import MeanAbsolutePercentageError, MeanSquaredError\n",
        "from tensorflow.keras.optimizers import Adam\n",
        "\n",
        "from sklearn.preprocessing import MinMaxScaler, OrdinalEncoder"
      ],
      "execution_count": 1,
      "outputs": []
    },
    {
      "cell_type": "markdown",
      "metadata": {
        "id": "eBom6uRfymgR"
      },
      "source": [
        "### Auxilary functions"
      ]
    },
    {
      "cell_type": "code",
      "metadata": {
        "id": "fsR2HLxkwOw2"
      },
      "source": [
        "def write_values(rects, ax):\n",
        "  heights = [r.get_height() for r in rects]\n",
        "  rel_heights = [h/max(heights) for h in heights]\n",
        "  idx = heights.index(max(heights))\n",
        "  for i,(r,h, rh) in enumerate(zip(rects, heights, rel_heights)):\n",
        "      ax.text(r.get_x() + r.get_width()/2.0, h + max(heights) * .01, f'{h:.2}', ha='center')\n",
        "\n",
        "def factor_int(n):\n",
        "  val = math.ceil(math.sqrt(n))\n",
        "  val2 = int(n/val)\n",
        "  while val2 * val != float(n):\n",
        "    val -= 1\n",
        "    val2 = int(n/val)\n",
        "  return val, val2"
      ],
      "execution_count": 2,
      "outputs": []
    },
    {
      "cell_type": "markdown",
      "metadata": {
        "id": "CLCNSKez3WMF"
      },
      "source": [
        "## Import Dataset"
      ]
    },
    {
      "cell_type": "code",
      "metadata": {
        "id": "QDFbe2fO3vcx"
      },
      "source": [
        "MSN = pd.read_csv('/content/MSN.csv', usecols = ['Name','Date','Open','Close','High','Low','Volume'])"
      ],
      "execution_count": 3,
      "outputs": []
    },
    {
      "cell_type": "code",
      "source": [
        "MSN['Date'] = pd.to_datetime(MSN['Date'])"
      ],
      "metadata": {
        "id": "sWdviNxIp6fO"
      },
      "execution_count": 4,
      "outputs": []
    },
    {
      "cell_type": "markdown",
      "metadata": {
        "id": "VMu9yiDzeHiX"
      },
      "source": [
        "## Create Dataset"
      ]
    },
    {
      "cell_type": "code",
      "metadata": {
        "id": "zUWkkyxtmCUD"
      },
      "source": [
        "#Stock name encoder\n",
        "name_encoder = OrdinalEncoder()\n",
        "#Value scaler\n",
        "scaler = MinMaxScaler(feature_range=(0,1))\n",
        "\n",
        "feature_cols = [\n",
        "                # 'Movement',\n",
        "                'Close', \n",
        "                # 'Open', 'Daily_High', 'Daily_Low', \"Volume\", \n",
        "                # 'avg',\n",
        "                # \"ma7\", \"ma21\", \"ema26\", \"ema12\", \"MACD\", \"upper_band\", \"lower_band\", \"ema\", \"momentum\",\n",
        "                \"Year\", \"Month\", \"Day\", \"Name\"]\n",
        "\n",
        "def create_timeseries(data, lag):\n",
        "  x = []\n",
        "  y = []\n",
        "\n",
        "  for i in range(lag, len(data)):\n",
        "      x.append(data[i - lag:i, :])\n",
        "      y.append(data[i, 0])\n",
        "  \n",
        "  x, y = np.array(x), np.array(y)\n",
        "  x = np.reshape(x, (x.shape[0], x.shape[1], -1))\n",
        "\n",
        "  assert len(x) == len(y)\n",
        "  return x, y\n",
        "\n",
        "def create_lag_features(data, lag):\n",
        "  x = []\n",
        "  y = []\n",
        "\n",
        "  for i in range(lag, len(data)):\n",
        "      x.append(data[i - lag:i, :])\n",
        "      y.append(data[i, 0])\n",
        "  \n",
        "  x, y = np.array(x), np.array(y)\n",
        "  x = np.reshape(x, (x.shape[0], -1))\n",
        "\n",
        "  assert len(x) == len(y)\n",
        "  return x, y\n",
        "\n",
        "def create_dataset(df, lag=60, dataset_format='timeseries', stock=None, target=\"regression\"):\n",
        "  if stock:\n",
        "    #Keep only one specific stock\n",
        "    X = df[df['Name'] == stock].copy()\n",
        "  else:\n",
        "    #Keep all stocks\n",
        "    X = df.copy()\n",
        "  \n",
        "  #Convert name from string to int\n",
        "  X['Name'] = name_encoder.fit_transform(X['Name'].to_numpy().reshape(-1,1))\n",
        "\n",
        "  #Convert volume from string to float\n",
        "  X['Volume'] = X['Volume'].astype('float')\n",
        "\n",
        "  #Create additional features and technical indicators\n",
        "  #Average of given prices\n",
        "  X['avg'] = X[['Close', 'Open', 'High', 'Low']].mean().mean()\n",
        "  # Create 7 and 21 days Moving Average\n",
        "  X['ma7'] = X['Close'].rolling(window = 7).mean()\n",
        "  X['ma21'] = X['Close'].rolling(window = 21).mean()\n",
        "  #Create MACD\n",
        "  X['ema26'] = X['Close'].ewm(span=26).mean()\n",
        "  X['ema12'] = X['Close'].ewm(span=12).mean()\n",
        "  X['MACD'] = (X['ema12']-X['ema26'])\n",
        "  #Create Bollinger Bands\n",
        "  X['20sd'] = X['Close'].rolling(window = 20).std()\n",
        "  X['upper_band'] = (X['Close'].rolling(window = 20).mean()) + (X['20sd']*2)\n",
        "  X['lower_band'] = (X['Close'].rolling(window = 20).mean()) - (X['20sd']*2)\n",
        "  #Create Exponential moving average\n",
        "  X['ema'] = X['Close'].ewm(com=0.5).mean()\n",
        "  #Create Momentum\n",
        "  X['momentum'] = X['Close'].rolling(window=10).apply(lambda x: x.iat[-1] - x.iat[0])\n",
        "\n",
        "\n",
        "  #Break day into year, month, day and time(hours, minutes, seconds)\n",
        "  X['Date'] = pd.to_datetime(X['Date'])\n",
        "  X['Year'] = X['Date'].dt.year\n",
        "  X['Month'] = X['Date'].dt.month\n",
        "  X['Day'] = X['Date'].dt.day\n",
        "  X['Time'] = X['Date'].dt.time\n",
        "\n",
        "  #Throw away original date column\n",
        "  X = X.drop(columns=['Date'])\n",
        "  year = X['Year']\n",
        "\n",
        "  #Move target column to first column\n",
        "  if target == 'regression':\n",
        "    close = X.pop(\"Close\")\n",
        "    X.insert(0, \"Close\", close)\n",
        "  elif target == 'classification':\n",
        "    X['Movement'] = X['Close'].rolling(window=2).apply(lambda x: 1 if x.iat[-1] > x.iat[0] else 0)\n",
        "    X['Movement'].iat[0] = 0\n",
        "    movement = X.pop(\"Movement\")\n",
        "    X.insert(0, \"Movement\", movement)\n",
        "  else:\n",
        "    raise ValueError()\n",
        "\n",
        "  #Keep only necessary features\n",
        "  X = pd.DataFrame(X, columns=feature_cols)\n",
        "\n",
        "  # Normalize data\n",
        "  if scaler != None:\n",
        "    X = scaler.fit_transform(X)\n",
        "  else:\n",
        "    X = X.to_numpy()\n",
        "\n",
        "  #Split into train, test\n",
        "  train_points = year\n",
        "  train_data = X[0:108284, :]\n",
        "  \n",
        "  test_points = year\n",
        "  test_data = X[-27070:, :]\n",
        "\n",
        "  if dataset_format == 'timeseries':\n",
        "    X_train, y_train = create_timeseries(train_data, lag)\n",
        "    X_test, y_test = create_timeseries(test_data, lag)\n",
        "  elif dataset_format == 'lag_features':\n",
        "    X_train, y_train = create_lag_features(train_data, lag)\n",
        "    X_test, y_test = create_lag_features(test_data, lag)\n",
        "\n",
        "  return (X_train, y_train), (X_test, y_test)\n",
        "\n",
        "\n",
        "def next_day(row):\n",
        "  year, month, day = round(row['Year'].item()), round(row['Month'].item()), round(row['Day'].item())\n",
        "  new_date = pd.Timestamp(year=year, month=month, day=day)\n",
        "  return new_date\n",
        "\n",
        "def dataset_to_df(X, Y, lag=60):\n",
        "  if X.ndim == 3:\n",
        "    last_days = X[:, -1, :]\n",
        "  elif X.ndim == 2:\n",
        "    n_feat = int(X.shape[1]/lag)\n",
        "    last_days = X[:, -n_feat:]\n",
        "  new_df = pd.DataFrame(last_days, columns=feature_cols)\n",
        "  #Replace closing price with y and scale back to original values\n",
        "  new_df['Close'] = Y\n",
        "  if scaler != None:\n",
        "    new_df = pd.DataFrame(scaler.inverse_transform(new_df), columns=feature_cols)\n",
        "  #Go to next day (i.e. day of the prediction)\n",
        "  new_df['Date'] = new_df.apply(next_day, axis=1)\n",
        "  #Convert name to string\n",
        "  new_df[\"Name\"] = name_encoder.inverse_transform(new_df[\"Name\"].to_numpy().reshape(-1, 1))\n",
        "\n",
        "  return pd.DataFrame(new_df, columns=['Name', \"Date\", \"Close\"])"
      ],
      "execution_count": 5,
      "outputs": []
    },
    {
      "cell_type": "code",
      "metadata": {
        "id": "I2kaxF0ffGHv",
        "colab": {
          "base_uri": "https://localhost:8080/"
        },
        "outputId": "919b5a99-c024-4820-e94f-458ed07ca6b8"
      },
      "source": [
        "(X_train, y_train), (X_test, y_test) = create_dataset(MSN, stock=\"MSN\")\n",
        "\n",
        "print(f\"X_train: {str(X_train.shape):14}, y_train: {y_train.shape}\")\n",
        "print(f\"X_test:  {str(X_test.shape):14}, y_test:   {y_test.shape}\")"
      ],
      "execution_count": 6,
      "outputs": [
        {
          "output_type": "stream",
          "name": "stdout",
          "text": [
            "X_train: (108224, 60, 5), y_train: (108224,)\n",
            "X_test:  (27010, 60, 5), y_test:   (27010,)\n"
          ]
        }
      ]
    },
    {
      "cell_type": "code",
      "metadata": {
        "id": "goIH_9KT49Gs",
        "colab": {
          "base_uri": "https://localhost:8080/",
          "height": 419
        },
        "outputId": "dff9ee82-0432-400f-bd22-94d370a5d5e3"
      },
      "source": [
        "train_df = dataset_to_df(X_train, y_train)\n",
        "test_df = dataset_to_df(X_test, y_test)\n",
        "\n",
        "# Line plot\n",
        "fig, ax = plt.subplots(figsize=(15, 6))\n",
        "\n",
        "plt.plot(train_df['Date'], train_df['Close'], label=\"Train\")\n",
        "plt.plot(test_df['Date'], test_df['Close'], label=\"Test\")\n",
        "\n",
        "# Formatting\n",
        "ax.set_title('Closing Price', fontsize = 20, loc='center', fontdict=dict(weight='bold'))\n",
        "ax.set_xlabel('Year', fontsize = 16, fontdict=dict(weight='bold'))\n",
        "ax.set_ylabel('Price', fontsize = 16, fontdict=dict(weight='bold'))\n",
        "ax.legend()\n",
        "plt.tick_params(axis='y', which='major', labelsize=16)\n",
        "plt.tick_params(axis='x', which='major', labelsize=16)"
      ],
      "execution_count": 7,
      "outputs": [
        {
          "output_type": "display_data",
          "data": {
            "text/plain": [
              "<Figure size 1080x432 with 1 Axes>"
            ],
            "image/png": "[encoded data removed]"
          },
          "metadata": {
            "needs_background": "light"
          }
        }
      ]
    },
    {
      "cell_type": "markdown",
      "metadata": {
        "id": "SUeP_4zbcyKU"
      },
      "source": [
        "## Predicting prices with regression"
      ]
    },
    {
      "cell_type": "code",
      "metadata": {
        "id": "1P2YjxP09QrO"
      },
      "source": [
        "results = {}\n",
        "target = \"regression\"\n",
        "\n",
        "#The following variables can be changed to alter the experiment\n",
        "\n",
        "#Value scaler can be set to None for no scaling\n",
        "scaler = MinMaxScaler(feature_range=(0,1))\n",
        "# scaler = None\n",
        "\n",
        "feature_cols = [\n",
        "                'Close', \n",
        "                'Open', 'High', 'Low', \"Volume\", \n",
        "                'avg',\n",
        "                # \"ma7\", \"ma21\", \"ema26\", \"ema12\", \"MACD\", \"upper_band\", \"lower_band\", \"ema\", \"momentum\",\n",
        "                \"Year\", \"Month\", \"Day\", \"Name\"]\n",
        "lag = 30\n",
        "stock_name = \"MSN\""
      ],
      "execution_count": 8,
      "outputs": []
    },
    {
      "cell_type": "markdown",
      "metadata": {
        "id": "1LYdpaZ_93J-"
      },
      "source": [
        "### Neural models"
      ]
    },
    {
      "cell_type": "markdown",
      "metadata": {
        "id": "qQHy9gvmcQGz"
      },
      "source": [
        "#### Define models"
      ]
    },
    {
      "cell_type": "code",
      "metadata": {
        "id": "hJ1d6Ndwc0q9"
      },
      "source": [
        "def LSTM_model(inp_shape):\n",
        "  model = Sequential()\n",
        "  model.add(LSTM(32, input_shape=(inp_shape), return_sequences = True))\n",
        "  model.add(LSTM(16))\n",
        "  model.add(Dense(1))\n",
        "  model.add(Activation('relu'))\n",
        "  return model\n"
      ],
      "execution_count": 9,
      "outputs": []
    },
    {
      "cell_type": "markdown",
      "metadata": {
        "id": "M6UuBTRY960C"
      },
      "source": [
        "#### Train models"
      ]
    },
    {
      "cell_type": "code",
      "metadata": {
        "id": "ruxAdaBO6Fup",
        "colab": {
          "base_uri": "https://localhost:8080/"
        },
        "outputId": "b6ac2f21-7cda-4375-872f-d8fdcecef680"
      },
      "source": [
        "model_create_funcs = {\"LSTM\" : (LSTM_model, \"timeseries\")}\n",
        "\n",
        "for name, (create_func, dataset_format) in model_create_funcs.items():\n",
        "  #Create dataset\n",
        "  (X_train, y_train), (X_test, y_test) = create_dataset(MSN, lag=lag, dataset_format=dataset_format, stock=stock_name, target=target)\n",
        "  #Create model\n",
        "  if X_train.ndim == 3:\n",
        "    model = create_func((X_train.shape[1], X_train.shape[2]))\n",
        "  elif X_train.ndim == 2:\n",
        "    model = create_func((X_train.shape[1],))\n",
        "  # model.summary()\n",
        "  model.compile(optimizer='adam', loss='mean_squared_error', metrics=['mean_absolute_percentage_error'])\n",
        "\n",
        "  #Define callbacks\n",
        "  early_stopper = EarlyStopping(monitor=\"val_loss\", patience=5, restore_best_weights=True)\n",
        "  cbs = [early_stopper]\n",
        "\n",
        "  #Train model (batchsize = 150 for for roughly 150 observations per day)\n",
        "  model.fit(X_train, y_train, validation_split=0.1, epochs=40, batch_size=150, verbose=1, callbacks=cbs)\n",
        "\n",
        "  #Make predictions on test set\n",
        "  predicted_prices = model.predict(X_test)\n",
        "  #Convert predictions\n",
        "  pred_df = dataset_to_df(X_test, predicted_prices, lag=lag)\n",
        "  #Get metrics on test set\n",
        "  mse = MeanSquaredError()(predicted_prices, y_test)\n",
        "  mape = MeanAbsolutePercentageError()(predicted_prices, y_test) \n",
        "  #Make predictions on train set\n",
        "  predicted_prices = model.predict(X_train)\n",
        "  #Get metrics on train set\n",
        "  train_mse = MeanSquaredError()(predicted_prices, y_train)\n",
        "  train_mape = MeanAbsolutePercentageError()(predicted_prices, y_train)\n",
        "\n",
        "  results[name] = {\n",
        "      \"pred\" : pred_df,\n",
        "      \"mse\" : mse,\n",
        "      \"mape\" : mape,\n",
        "      \"train_mse\" : mse,\n",
        "      \"train_mape\" : mape\n",
        "  }"
      ],
      "execution_count": 10,
      "outputs": [
        {
          "output_type": "stream",
          "name": "stdout",
          "text": [
            "Epoch 1/40\n",
            "650/650 [==============================] - 35s 48ms/step - loss: 0.0015 - mean_absolute_percentage_error: 123.9984 - val_loss: 1.8607e-05 - val_mean_absolute_percentage_error: 1.7140\n",
            "Epoch 2/40\n",
            "650/650 [==============================] - 28s 44ms/step - loss: 2.4732e-05 - mean_absolute_percentage_error: 57.6057 - val_loss: 1.8197e-05 - val_mean_absolute_percentage_error: 1.7225\n",
            "Epoch 3/40\n",
            "650/650 [==============================] - 28s 44ms/step - loss: 2.2128e-05 - mean_absolute_percentage_error: 32.1948 - val_loss: 1.4968e-05 - val_mean_absolute_percentage_error: 1.5145\n",
            "Epoch 4/40\n",
            "650/650 [==============================] - 29s 44ms/step - loss: 2.1405e-05 - mean_absolute_percentage_error: 31.2488 - val_loss: 1.0247e-05 - val_mean_absolute_percentage_error: 1.1468\n",
            "Epoch 5/40\n",
            "650/650 [==============================] - 31s 48ms/step - loss: 2.1176e-05 - mean_absolute_percentage_error: 26.0194 - val_loss: 9.8562e-06 - val_mean_absolute_percentage_error: 1.1225\n",
            "Epoch 6/40\n",
            "650/650 [==============================] - 29s 44ms/step - loss: 2.0721e-05 - mean_absolute_percentage_error: 33.5070 - val_loss: 9.8591e-06 - val_mean_absolute_percentage_error: 1.1785\n",
            "Epoch 7/40\n",
            "650/650 [==============================] - 29s 44ms/step - loss: 1.9918e-05 - mean_absolute_percentage_error: 48.9018 - val_loss: 8.3244e-06 - val_mean_absolute_percentage_error: 0.9886\n",
            "Epoch 8/40\n",
            "650/650 [==============================] - 29s 45ms/step - loss: 1.9680e-05 - mean_absolute_percentage_error: 18.5449 - val_loss: 1.4045e-05 - val_mean_absolute_percentage_error: 1.4703\n",
            "Epoch 9/40\n",
            "650/650 [==============================] - 30s 46ms/step - loss: 1.9811e-05 - mean_absolute_percentage_error: 4.7531 - val_loss: 7.4192e-06 - val_mean_absolute_percentage_error: 0.9319\n",
            "Epoch 10/40\n",
            "650/650 [==============================] - 29s 45ms/step - loss: 1.8954e-05 - mean_absolute_percentage_error: 41.4668 - val_loss: 7.3844e-06 - val_mean_absolute_percentage_error: 0.9555\n",
            "Epoch 11/40\n",
            "650/650 [==============================] - 29s 45ms/step - loss: 1.6951e-05 - mean_absolute_percentage_error: 38.3268 - val_loss: 1.1881e-05 - val_mean_absolute_percentage_error: 1.4218\n",
            "Epoch 12/40\n",
            "650/650 [==============================] - 30s 47ms/step - loss: 1.7012e-05 - mean_absolute_percentage_error: 20.1170 - val_loss: 6.7970e-06 - val_mean_absolute_percentage_error: 0.9386\n",
            "Epoch 13/40\n",
            "650/650 [==============================] - 30s 46ms/step - loss: 1.5772e-05 - mean_absolute_percentage_error: 19.3719 - val_loss: 7.2437e-06 - val_mean_absolute_percentage_error: 0.9675\n",
            "Epoch 14/40\n",
            "650/650 [==============================] - 29s 44ms/step - loss: 1.4358e-05 - mean_absolute_percentage_error: 69.6887 - val_loss: 6.3633e-06 - val_mean_absolute_percentage_error: 0.9263\n",
            "Epoch 15/40\n",
            "650/650 [==============================] - 29s 45ms/step - loss: 1.5173e-05 - mean_absolute_percentage_error: 41.2156 - val_loss: 5.6686e-06 - val_mean_absolute_percentage_error: 0.8510\n",
            "Epoch 16/40\n",
            "650/650 [==============================] - 30s 47ms/step - loss: 1.3204e-05 - mean_absolute_percentage_error: 10.1595 - val_loss: 5.1624e-06 - val_mean_absolute_percentage_error: 0.7885\n",
            "Epoch 17/40\n",
            "650/650 [==============================] - 29s 45ms/step - loss: 1.2359e-05 - mean_absolute_percentage_error: 34.1964 - val_loss: 4.4780e-06 - val_mean_absolute_percentage_error: 0.7225\n",
            "Epoch 18/40\n",
            "650/650 [==============================] - 29s 45ms/step - loss: 1.1933e-05 - mean_absolute_percentage_error: 12.3289 - val_loss: 5.8399e-06 - val_mean_absolute_percentage_error: 0.9276\n",
            "Epoch 19/40\n",
            "650/650 [==============================] - 31s 48ms/step - loss: 1.1772e-05 - mean_absolute_percentage_error: 18.9247 - val_loss: 4.1969e-06 - val_mean_absolute_percentage_error: 0.7180\n",
            "Epoch 20/40\n",
            "650/650 [==============================] - 30s 46ms/step - loss: 1.0839e-05 - mean_absolute_percentage_error: 22.1830 - val_loss: 5.3379e-06 - val_mean_absolute_percentage_error: 0.8927\n",
            "Epoch 21/40\n",
            "650/650 [==============================] - 31s 48ms/step - loss: 1.1257e-05 - mean_absolute_percentage_error: 26.8100 - val_loss: 2.7362e-05 - val_mean_absolute_percentage_error: 2.5475\n",
            "Epoch 22/40\n",
            "650/650 [==============================] - 36s 55ms/step - loss: 1.0548e-05 - mean_absolute_percentage_error: 22.9600 - val_loss: 3.8673e-06 - val_mean_absolute_percentage_error: 0.7150\n",
            "Epoch 23/40\n",
            "650/650 [==============================] - 29s 45ms/step - loss: 1.0233e-05 - mean_absolute_percentage_error: 19.6055 - val_loss: 3.7234e-06 - val_mean_absolute_percentage_error: 0.7117\n",
            "Epoch 24/40\n",
            "650/650 [==============================] - 31s 47ms/step - loss: 1.0801e-05 - mean_absolute_percentage_error: 7.6986 - val_loss: 5.4603e-06 - val_mean_absolute_percentage_error: 0.9366\n",
            "Epoch 25/40\n",
            "650/650 [==============================] - 32s 49ms/step - loss: 1.0095e-05 - mean_absolute_percentage_error: 42.9860 - val_loss: 4.5308e-06 - val_mean_absolute_percentage_error: 0.8499\n",
            "Epoch 26/40\n",
            "650/650 [==============================] - 29s 45ms/step - loss: 9.6601e-06 - mean_absolute_percentage_error: 36.3364 - val_loss: 6.3649e-06 - val_mean_absolute_percentage_error: 1.0508\n",
            "Epoch 27/40\n",
            "650/650 [==============================] - 30s 46ms/step - loss: 1.0434e-05 - mean_absolute_percentage_error: 17.6204 - val_loss: 2.8297e-06 - val_mean_absolute_percentage_error: 0.5768\n",
            "Epoch 28/40\n",
            "650/650 [==============================] - 30s 46ms/step - loss: 1.0441e-05 - mean_absolute_percentage_error: 11.6114 - val_loss: 5.2117e-06 - val_mean_absolute_percentage_error: 0.9193\n",
            "Epoch 29/40\n",
            "650/650 [==============================] - 29s 45ms/step - loss: 9.4696e-06 - mean_absolute_percentage_error: 22.3945 - val_loss: 3.7963e-06 - val_mean_absolute_percentage_error: 0.7344\n",
            "Epoch 30/40\n",
            "650/650 [==============================] - 29s 45ms/step - loss: 9.3390e-06 - mean_absolute_percentage_error: 13.6610 - val_loss: 2.7480e-06 - val_mean_absolute_percentage_error: 0.5752\n",
            "Epoch 31/40\n",
            "650/650 [==============================] - 30s 47ms/step - loss: 9.8906e-06 - mean_absolute_percentage_error: 25.0768 - val_loss: 3.1858e-06 - val_mean_absolute_percentage_error: 0.6492\n",
            "Epoch 32/40\n",
            "650/650 [==============================] - 31s 47ms/step - loss: 9.7531e-06 - mean_absolute_percentage_error: 23.9771 - val_loss: 6.5206e-06 - val_mean_absolute_percentage_error: 1.0968\n",
            "Epoch 33/40\n",
            "650/650 [==============================] - 29s 45ms/step - loss: 9.4875e-06 - mean_absolute_percentage_error: 9.5277 - val_loss: 4.0842e-06 - val_mean_absolute_percentage_error: 0.8149\n",
            "Epoch 34/40\n",
            "650/650 [==============================] - 30s 47ms/step - loss: 9.6938e-06 - mean_absolute_percentage_error: 18.3119 - val_loss: 2.8215e-06 - val_mean_absolute_percentage_error: 0.5977\n",
            "Epoch 35/40\n",
            "650/650 [==============================] - 30s 46ms/step - loss: 9.7494e-06 - mean_absolute_percentage_error: 21.2839 - val_loss: 2.8994e-06 - val_mean_absolute_percentage_error: 0.6161\n",
            "845/845 [==============================] - 9s 9ms/step\n",
            "3383/3383 [==============================] - 33s 9ms/step\n"
          ]
        }
      ]
    },
    {
      "cell_type": "markdown",
      "metadata": {
        "id": "3TzZdd8L-B7G"
      },
      "source": [
        "### Plot results"
      ]
    },
    {
      "cell_type": "code",
      "source": [
        "results"
      ],
      "metadata": {
        "colab": {
          "base_uri": "https://localhost:8080/"
        },
        "id": "yQQA92529A2T",
        "outputId": "9481a3e6-5545-4796-e6e4-27545a31bdfa"
      },
      "execution_count": 11,
      "outputs": [
        {
          "output_type": "execute_result",
          "data": {
            "text/plain": [
              "{'LSTM': {'pred':       Name       Date      Close\n",
              "  0      MSN 2020-06-24  57.563365\n",
              "  1      MSN 2020-06-24  57.533521\n",
              "  2      MSN 2020-06-24  57.475616\n",
              "  3      MSN 2020-06-24  57.313686\n",
              "  4      MSN 2020-06-24  57.088537\n",
              "  ...    ...        ...        ...\n",
              "  27035  MSN 2020-12-22  82.618362\n",
              "  27036  MSN 2020-12-22  82.620069\n",
              "  27037  MSN 2020-12-22  82.589743\n",
              "  27038  MSN 2020-12-22  82.618464\n",
              "  27039  MSN 2020-12-22  82.621264\n",
              "  \n",
              "  [27040 rows x 3 columns],\n",
              "  'mse': <tf.Tensor: shape=(), dtype=float32, numpy=1.4029723e-05>,\n",
              "  'mape': <tf.Tensor: shape=(), dtype=float32, numpy=0.99088514>,\n",
              "  'train_mse': <tf.Tensor: shape=(), dtype=float32, numpy=1.4029723e-05>,\n",
              "  'train_mape': <tf.Tensor: shape=(), dtype=float32, numpy=0.99088514>}}"
            ]
          },
          "metadata": {},
          "execution_count": 11
        }
      ]
    },
    {
      "cell_type": "code",
      "metadata": {
        "id": "i5QKnpLM8_lO",
        "colab": {
          "base_uri": "https://localhost:8080/",
          "height": 233
        },
        "outputId": "2817f77e-7e17-4713-a068-a38e6c51a412"
      },
      "source": [
        "#Line Plot\n",
        "ncols, nrows = factor_int(len(results))\n",
        "fig, axes = plt.subplots(nrows, ncols, squeeze=False, figsize=(9*ncols, 3*nrows), sharex=True, sharey=True)\n",
        "\n",
        "#Get actual prices\n",
        "real_df = dataset_to_df(X_test, y_test, lag=lag)\n",
        "if stock_name != None:\n",
        "  real_df = real_df[real_df[\"Name\"] == stock_name]\n",
        "\n",
        "for (name, res), ax in zip(results.items(), axes.flatten()):\n",
        "  #Plot predictions\n",
        "  pred_df = results[name]['pred']\n",
        "  ax.plot(pred_df['Date'], pred_df['Close'], label=f\"{name} predicted price\")\n",
        "  #Plot actual prices\n",
        "  ax.plot(real_df['Date'], real_df['Close'], label=\"Actual price\")\n",
        "  #Plot formatting\n",
        "  ax.legend()\n",
        "  ax.set_ylabel('Price', fontsize = 9)\n",
        "\n",
        "#Figure Formatting\n",
        "fig.suptitle(f'Predicted prices for the {stock_name} stock', fontsize = 20, fontdict=dict(weight='bold'))\n",
        "fig.show()"
      ],
      "execution_count": 12,
      "outputs": [
        {
          "output_type": "display_data",
          "data": {
            "text/plain": [
              "<Figure size 648x216 with 1 Axes>"
            ],
            "image/png": "[encoded data removed]"
          },
          "metadata": {
            "needs_background": "light"
          }
        }
      ]
    },
    {
      "cell_type": "code",
      "metadata": {
        "id": "5W3OwAHp-UMk"
      },
      "source": [
        "mse_scores = []\n",
        "mape_scores = []\n",
        "\n",
        "mse_scores.append(results[name]['mse'])\n",
        "mape_scores.append(results[name]['mape'])"
      ],
      "execution_count": 13,
      "outputs": []
    },
    {
      "cell_type": "code",
      "source": [
        "#Mean Square Error\n",
        "mse_scores"
      ],
      "metadata": {
        "colab": {
          "base_uri": "https://localhost:8080/"
        },
        "id": "TQrr49TBBg9Q",
        "outputId": "6723ce7c-3762-4480-e0f3-185c9918c4ea"
      },
      "execution_count": 14,
      "outputs": [
        {
          "output_type": "execute_result",
          "data": {
            "text/plain": [
              "[<tf.Tensor: shape=(), dtype=float32, numpy=1.4029723e-05>]"
            ]
          },
          "metadata": {},
          "execution_count": 14
        }
      ]
    },
    {
      "cell_type": "code",
      "source": [
        "#Mean Absolute Percentage Error\n",
        "mape_scores"
      ],
      "metadata": {
        "colab": {
          "base_uri": "https://localhost:8080/"
        },
        "id": "yfRt7GpVBqbg",
        "outputId": "fcf4ea52-cbc3-4e49-cb0c-c10f51598d37"
      },
      "execution_count": 15,
      "outputs": [
        {
          "output_type": "execute_result",
          "data": {
            "text/plain": [
              "[<tf.Tensor: shape=(), dtype=float32, numpy=0.99088514>]"
            ]
          },
          "metadata": {},
          "execution_count": 15
        }
      ]
    }
  ]
}